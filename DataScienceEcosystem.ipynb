{
 "cells": [
  {
   "cell_type": "markdown",
   "id": "f58ad317-01ab-4007-a383-ee3a7fceb5ba",
   "metadata": {},
   "source": [
    "# Data Science Tools and Ecosystem"
   ]
  },
  {
   "cell_type": "markdown",
   "id": "2eb643ae-f90a-4838-ac79-0418fb41f033",
   "metadata": {},
   "source": [
    "In this notebook, Data Science Tools and Ecosystem are summarized."
   ]
  },
  {
   "cell_type": "markdown",
   "id": "fa395fee-37a6-496b-a34d-3527d1460776",
   "metadata": {},
   "source": [
    "Some of the popular languages that Data Scientists use are:\n",
    "\n",
    "1. Python  \n",
    "2. R  \n",
    "3. SQL  \n",
    "4. Java  \n",
    "5. Julia\n"
   ]
  },
  {
   "cell_type": "markdown",
   "id": "720e37ab-b13b-4e92-9641-a5b16576f2bd",
   "metadata": {},
   "source": [
    "Some of the commonly used libraries used by Data Scientists include:\n",
    "1. Pandas\n",
    "2. Numpy\n",
    "3. Matplotlib\n",
    "4. scikit-learn\n",
    "5. TensorFlow"
   ]
  },
  {
   "cell_type": "markdown",
   "id": "29c880c0-a844-4f41-be3a-f89db2ef0d34",
   "metadata": {},
   "source": [
    "| Data Science Tools         |\n",
    "|----------------------------|\n",
    "| Jupyter Notebook           |\n",
    "| RStudio                    |\n",
    "| Apache Zeppelin            |\n"
   ]
  },
  {
   "cell_type": "markdown",
   "id": "e3e95d25-45d2-4acb-95a1-cfb70863d573",
   "metadata": {},
   "source": [
    "### Below are a few examples of evaluating arithmetic expressions in Python."
   ]
  },
  {
   "cell_type": "code",
   "execution_count": 3,
   "id": "8e73fb2d-2152-436f-a3bc-cb40af1acfb2",
   "metadata": {},
   "outputs": [
    {
     "data": {
      "text/plain": [
       "17"
      ]
     },
     "execution_count": 3,
     "metadata": {},
     "output_type": "execute_result"
    }
   ],
   "source": [
    "# This a simple arithmetic expression to multiply then add integers\n",
    "3*4+5"
   ]
  },
  {
   "cell_type": "code",
   "execution_count": 4,
   "id": "5c4dcb3d-632e-4d9d-baa2-71a5e2e7bf5e",
   "metadata": {},
   "outputs": [
    {
     "data": {
      "text/plain": [
       "3.3333333333333335"
      ]
     },
     "execution_count": 4,
     "metadata": {},
     "output_type": "execute_result"
    }
   ],
   "source": [
    "# This will convert 200 minutes to hours by dividing by 60\n",
    "200 / 60"
   ]
  },
  {
   "cell_type": "markdown",
   "id": "fcc46b74-053b-406b-aef2-7936df28256a",
   "metadata": {},
   "source": [
    "**Objectives:**\n",
    "\n",
    "- List popular languages for Data Science\n",
    "- List commonly used libraries in Data Science\n",
    "- Create tables using markdown\n",
    "- Evaluate arithmetic expressions in Python\n",
    "- Convert minutes to hours using Python"
   ]
  },
  {
   "cell_type": "markdown",
   "id": "4fbeee29-e67d-4c85-a9c6-6ac04fd566f7",
   "metadata": {},
   "source": [
    "## Author\n",
    "\n",
    "Beomsu Park"
   ]
  },
  {
   "cell_type": "code",
   "execution_count": null,
   "id": "85c56af2-1cb9-4ad5-9921-310a6aeb1608",
   "metadata": {},
   "outputs": [],
   "source": []
  }
 ],
 "metadata": {
  "kernelspec": {
   "display_name": "Python [conda env:base] *",
   "language": "python",
   "name": "conda-base-py"
  },
  "language_info": {
   "codemirror_mode": {
    "name": "ipython",
    "version": 3
   },
   "file_extension": ".py",
   "mimetype": "text/x-python",
   "name": "python",
   "nbconvert_exporter": "python",
   "pygments_lexer": "ipython3",
   "version": "3.13.5"
  }
 },
 "nbformat": 4,
 "nbformat_minor": 5
}
